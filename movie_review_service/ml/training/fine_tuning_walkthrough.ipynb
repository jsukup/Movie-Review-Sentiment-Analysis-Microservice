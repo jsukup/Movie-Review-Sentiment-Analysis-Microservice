{
  "cells": [
    {
      "cell_type": "markdown",
      "metadata": {},
      "source": [
        "# Fine-tuning DistilBERT for Sentiment Analysis\n",
        "\n",
        "This notebook walks through the process of fine-tuning a DistilBERT model for sentiment analysis using the IMDB movie reviews dataset.\n",
        "\n",
        "## Why DistilBERT?\n",
        "\n",
        "DistilBERT is a distilled version of BERT (Bidirectional Encoder Representations from Transformers) that retains 97% of its language understanding capabilities while being 40% smaller and 60% faster.\n",
        "\n",
        "## What this Notebook Covers\n",
        "\n",
        "1. Data preparation and preprocessing\n",
        "2. Model configuration and training\n",
        "3. Evaluation and testing\n"
      ]
    },
    {
      "cell_type": "code",
      "execution_count": null,
      "metadata": {},
      "outputs": [],
      "source": [
        "import torch\n",
        "from transformers import (\n",
        "    DistilBertTokenizer,\n",
        "    DistilBertForSequenceClassification,\n",
        "    get_linear_schedule_with_warmup\n",
        ")\n",
        "from torch.utils.data import DataLoader, Dataset\n",
        "from tqdm.auto import tqdm\n",
        "import pandas as pd\n",
        "import numpy as np\n",
        "import matplotlib.pyplot as plt\n",
        "from sklearn.metrics import classification_report\n",
        "from datasets import load_dataset\n",
        "\n",
        "# Set random seeds\n",
        "torch.manual_seed(42)\n",
        "np.random.seed(42)\n",
        "\n",
        "device = torch.device('cuda' if torch.cuda.is_available() else 'cpu')\n",
        "print(f'Using device: {device}')"
      ]
    },
    {
      "cell_type": "markdown",
      "metadata": {},
      "source": [
        "## 1. Data Preparation\n",
        "\n",
        "First, we'll create our dataset class and load the IMDB dataset."
      ]
    },
    {
      "cell_type": "code",
      "execution_count": null,
      "metadata": {},
      "outputs": [],
      "source": [
        "class IMDBDataset(Dataset):\n",
        "    def __init__(self, texts, labels, tokenizer, max_length=512):\n",
        "        self.encodings = tokenizer(\n",
        "            texts,\n",
        "            truncation=True,\n",
        "            padding=True,\n",
        "            max_length=max_length,\n",
        "            return_tensors='pt'\n",
        "        )\n",
        "        self.labels = torch.tensor(labels)\n",
        "\n",
        "    def __getitem__(self, idx):\n",
        "        item = {key: val[idx] for key, val in self.encodings.items()}\n",
        "        item['labels'] = self.labels[idx]\n",
        "        return item\n",
        "\n",
        "    def __len__(self):\n",
        "        return len(self.labels)"
      ]
    },
    {
      "cell_type": "markdown",
      "metadata": {},
      "source": [
        "## 2. Model Configuration\n",
        "\n",
        "Now we'll set up our DistilBERT model and configure it for fine-tuning."
      ]
    },
    {
      "cell_type": "code",
      "execution_count": null,
      "metadata": {},
      "outputs": [],
      "source": [
        "def initialize_model(model_name='distilbert-base-uncased'):\n",
        "    tokenizer = DistilBertTokenizer.from_pretrained(model_name)\n",
        "    model = DistilBertForSequenceClassification.from_pretrained(\n",
        "        model_name,\n",
        "        num_labels=2  # Still using 2 labels since neutral is determined by confidence\n",
        "    )\n",
        "    \n",
        "    # Add comment explaining our approach\n",
        "    # Note: This model outputs binary predictions (positive/negative)\n",
        "    # Neutral sentiment is determined at inference time using a confidence threshold\n",
        "    # when confidence < CONFIDENCE_THRESHOLD (default 0.50)\n",
        "    \n",
        "    # Freeze base model layers\n",
        "    for param in model.distilbert.parameters():\n",
        "        param.requires_grad = False\n",
        "    \n",
        "    return model, tokenizer"
      ]
    },
    {
      "cell_type": "markdown",
      "metadata": {},
      "source": [
        "## Note on Three-Class Classification\n",
        "\n",
        "While this model is trained on binary labels (positive/negative), our inference pipeline \n",
        "supports three-class classification (positive/negative/neutral) by using a confidence threshold:\n",
        "\n",
        "- If prediction confidence < 0.50: Classify as \"neutral\"\n",
        "- Otherwise: Use model's binary prediction (positive/negative)\n",
        "\n",
        "This approach allows us to identify reviews with ambiguous sentiment without requiring \n",
        "three-class training data."
      ]
    }
  ],
  "metadata": {
    "kernelspec": {
      "display_name": "Python 3",
      "language": "python",
      "name": "python3"
    },
    "language_info": {
      "codemirror_mode": {
        "name": "ipython",
        "version": 3
      },
      "file_extension": ".py",
      "mimetype": "text/x-python",
      "name": "python",
      "nbconvert_exporter": "python",
      "pygments_lexer": "ipython3",
      "version": "3.10.12"
    }
  },
  "nbformat": 4,
  "nbformat_minor": 4
}
